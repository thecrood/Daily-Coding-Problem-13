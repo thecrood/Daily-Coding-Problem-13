{
 "cells": [
  {
   "cell_type": "markdown",
   "id": "24c5750b",
   "metadata": {},
   "source": [
    "# Daily Coading Problem 13"
   ]
  },
  {
   "cell_type": "raw",
   "id": "12123a7e",
   "metadata": {},
   "source": [
    "This problem was asked by Amazon.\n",
    "\n",
    "Given an integer k and a string s, find the length of the longest substring that contains at most k distinct characters.\n",
    "\n",
    "For example, given s = \"abcba\" and k = 2, the longest substring with k distinct characters is \"bcb\".\n",
    "\n",
    "Input: S = \"eceba\" and k = 3\n",
    "Output: 4\n",
    "Explanation: T = \"eceb\"\n",
    "\n",
    "Input: S = \"WORLD\" and k = 4\n",
    "Output: 4\n",
    "Explanation: T = \"WORL\" or \"ORLD\""
   ]
  },
  {
   "cell_type": "markdown",
   "id": "aa8f98cd",
   "metadata": {},
   "source": [
    "The most obvious brute force solution here is to simply try every possible substring of the string and check whether it contains at most k distinct characters. If it does and it is greater than the current longest valid substring, then update the current one. This takes O(n2 * k) time, since we use n2 to generate each possible substring, and then take k to check each character."
   ]
  },
  {
   "cell_type": "code",
   "execution_count": 20,
   "id": "9e152814",
   "metadata": {},
   "outputs": [
    {
     "name": "stdout",
     "output_type": "stream",
     "text": [
      "4\n"
     ]
    }
   ],
   "source": [
    "def longest_substring_with_k_distinct_characters(s, k):\n",
    "    current_longest_substring = ''\n",
    "    for i in range(len(s)):\n",
    "        for j in range(i + 1, len(s) + 1):\n",
    "            substring = s[i:j]\n",
    "            if len(set(substring)) <= k and len(substring) > len(current_longest_substring):\n",
    "                current_longest_substring = substring\n",
    "    return len(current_longest_substring)\n",
    "print(longest_substring_with_k_distinct_characters('eceba',3))"
   ]
  },
  {
   "cell_type": "markdown",
   "id": "13adfa1a",
   "metadata": {},
   "source": [
    "We can improve this by instead keeping a running window of our longest substring. We'll keep a dictionary that maps characters to the index of their last occurrence. Then, as we iterate over the string, we'll check the size of the dictionary. If it's larger than k, then it means our window is too big, so we have to pop the smallest item in the dictionary and recompute the bounds. If, when we add a character to the dictionary and it doesn't go over k, then we're safe -- the dictionary hasn't been filled up yet or it's a character we've seen before."
   ]
  },
  {
   "cell_type": "code",
   "execution_count": 19,
   "id": "2c13dd7c",
   "metadata": {},
   "outputs": [
    {
     "name": "stdout",
     "output_type": "stream",
     "text": [
      "4\n"
     ]
    }
   ],
   "source": [
    "def longest_substring_with_k_distinct_characters(s, k):\n",
    "    if k == 0:\n",
    "        return 0\n",
    "\n",
    "    # Keep a running window\n",
    "    bounds = (0, 0)\n",
    "    h = {}\n",
    "    max_length = 0\n",
    "    for i, char in enumerate(s):\n",
    "        h[char] = i\n",
    "        if len(h) <= k:\n",
    "            new_lower_bound = bounds[0] # lower bound remains the same\n",
    "        else:\n",
    "            # otherwise, pop last occurring char\n",
    "            key_to_pop = min(h, key=h.get)\n",
    "            new_lower_bound = h.pop(key_to_pop) + 1\n",
    "\n",
    "        bounds = (new_lower_bound, bounds[1] + 1)\n",
    "        max_length = max(max_length, bounds[1] - bounds[0])\n",
    "\n",
    "    return max_length\n",
    "print(longest_substring_with_k_distinct_characters('world',4))"
   ]
  },
  {
   "cell_type": "markdown",
   "id": "07211255",
   "metadata": {},
   "source": [
    "This takes O(n * k) time and O(k) space."
   ]
  }
 ],
 "metadata": {
  "kernelspec": {
   "display_name": "Python 3 (ipykernel)",
   "language": "python",
   "name": "python3"
  },
  "language_info": {
   "codemirror_mode": {
    "name": "ipython",
    "version": 3
   },
   "file_extension": ".py",
   "mimetype": "text/x-python",
   "name": "python",
   "nbconvert_exporter": "python",
   "pygments_lexer": "ipython3",
   "version": "3.8.10"
  }
 },
 "nbformat": 4,
 "nbformat_minor": 5
}
